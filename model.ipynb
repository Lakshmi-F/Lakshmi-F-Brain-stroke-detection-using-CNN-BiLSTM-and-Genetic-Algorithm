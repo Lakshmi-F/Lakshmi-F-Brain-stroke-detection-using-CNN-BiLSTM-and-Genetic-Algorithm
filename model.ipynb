{
  "cells": [
    {
      "cell_type": "code",
      "execution_count": null,
      "metadata": {
        "id": "8E5y5gzRo8gL"
      },
      "outputs": [],
      "source": [
        "import warnings\n",
        "warnings.filterwarnings('ignore')\n",
        "\n",
        "import os\n",
        "import numpy as np\n",
        "import torch\n",
        "import torchvision\n",
        "import torchvision.transforms as transforms\n",
        "import matplotlib.pyplot as plt\n",
        "%matplotlib inline\n",
        "from sklearn.metrics import classification_report, confusion_matrix, accuracy_score\n",
        "from sklearn.model_selection import train_test_split\n",
        "from PIL import Image\n",
        "import tensorflow as tf\n",
        "from PIL import ImageTk\n",
        "import torch\n",
        "import torch.nn as nn\n",
        "import torch.optim as optim\n",
        "from torchvision import models\n",
        "from torchvision import models, transforms\n",
        "from torch.utils.data import DataLoader, TensorDataset"
      ]
    },
    {
      "cell_type": "code",
      "execution_count": null,
      "metadata": {
        "colab": {
          "base_uri": "https://localhost:8080/"
        },
        "id": "3EsOjdJHpDCK",
        "outputId": "6f18ce55-e5bc-4abe-e74c-1a4f2d37459e"
      },
      "outputs": [
        {
          "output_type": "stream",
          "name": "stdout",
          "text": [
            "Images in Normal data: 950\n",
            "Images in Stroke data: 950\n"
          ]
        }
      ],
      "source": [
        "normal_path = \"/img/brain_data/Normal/\"\n",
        "stroke_path = \"/img/brain_data/Stroke/\"\n",
        "normal_folder = os.listdir(normal_path)\n",
        "stroke_folder = os.listdir(stroke_path)\n",
        "\n",
        "print(\"Images in Normal data:\", len(normal_folder))\n",
        "print(\"Images in Stroke data:\", len(stroke_folder))\n",
        "\n",
        "data=[]\n",
        "\n",
        "for img_file in normal_folder:\n",
        "    image = Image.open(normal_path + img_file)\n",
        "    image = image.resize((229, 229))\n",
        "    image = image.convert('RGB')\n",
        "    data.append(np.array(image))\n",
        "\n",
        "for img_file in stroke_folder:\n",
        "    image = Image.open(stroke_path + img_file)\n",
        "    image= image.resize((229, 229))\n",
        "    image = image.convert('RGB')\n",
        "    data.append(np.array(image))\n",
        "\n",
        "normal_label =[0] * len(normal_folder)\n",
        "stroke_label = [1] * len(stroke_folder)\n",
        "Target_label = normal_label + stroke_label\n",
        "\n",
        "x = np.array(data)\n",
        "y = np.array(Target_label)\n",
        "\n",
        "x_train, x_test, y_train, y_test = train_test_split(x, y, test_size=0.30, shuffle=True)\n",
        "\n",
        "x_train_s = x_train / 255.0\n",
        "x_test_s = x_test / 255.0"
      ]
    },
    {
      "cell_type": "code",
      "execution_count": null,
      "metadata": {
        "colab": {
          "base_uri": "https://localhost:8080/"
        },
        "id": "z_-X8b-IpV3S",
        "outputId": "bbcfcfae-0b67-439a-92af-4ec38fc329a2"
      },
      "outputs": [
        {
          "output_type": "stream",
          "name": "stderr",
          "text": [
            "Downloading: \"https://download.pytorch.org/models/inception_v3_google-0cc3c7bd.pth\" to /root/.cache/torch/hub/checkpoints/inception_v3_google-0cc3c7bd.pth\n",
            "100%|██████████| 104M/104M [00:01<00:00, 58.1MB/s]\n"
          ]
        }
      ],
      "source": [
        "#Convert to torch tensors\n",
        "x_train_tensor = torch.tensor(x_train_s).permute(0, 3, 1, 2).float()\n",
        "\n",
        "#Convert (batch, height, width, channels) to (batch, channels, height, width)\n",
        "x_test_tensor = torch.tensor(x_test_s).permute(0, 3, 1, 2).float()\n",
        "\n",
        "y_train_tensor = torch.tensor(y_train).long()\n",
        "y_test_tensor = torch.tensor(y_test).long()\n",
        "\n",
        "#Create DataLoader for training and testing\n",
        "train_dataset = TensorDataset(x_train_tensor, y_train_tensor)\n",
        "test_dataset = TensorDataset(x_test_tensor, y_test_tensor)\n",
        "\n",
        "train_loader = DataLoader(train_dataset, batch_size=32, shuffle=True)\n",
        "test_loader = DataLoader(test_dataset, batch_size=32, shuffle=False)\n",
        "\n",
        "#Feature extraction\n",
        "def extract_features(model, dataloader, device):\n",
        "    model.eval()  #Set to evaluation mode\n",
        "    features = []\n",
        "    labels = []\n",
        "\n",
        "    with torch.no_grad():\n",
        "        for inputs, target in dataloader:\n",
        "            inputs, target = inputs.to(device), target.to(device)\n",
        "            output = model(inputs)  #Forward pass to get features\n",
        "\n",
        "            # Collect features\n",
        "            features.append(output.cpu().numpy())  #Append the output (features)\n",
        "            labels.append(target.cpu().numpy())  #Collecting actual labels\n",
        "\n",
        "    return np.concatenate(features), np.concatenate(labels)\n",
        "\n",
        "#Load model for feature extraction and moving to GPU if available\n",
        "device = torch.device('cuda' if torch.cuda.is_available() else 'cpu')\n",
        "\n",
        "models_dict = {\n",
        "    #'AlexNet': models.alexnet(pretrained=True),\n",
        "    #'VGG-19': models.vgg19(pretrained=True),\n",
        "    'InceptionV3': models.inception_v3(pretrained=True),\n",
        "    #'ShuffleNet': models.shufflenet_v2_x1_0(pretrained=True),\n",
        "    #'NasNet': timm.create_model('nasnetalarge', pretrained=True)\n",
        "}"
      ]
    },
    {
      "cell_type": "code",
      "execution_count": null,
      "metadata": {
        "colab": {
          "base_uri": "https://localhost:8080/"
        },
        "id": "wHvO9tyZpXv7",
        "outputId": "02071283-a4cd-4b57-cfc4-3995a9280ca4"
      },
      "outputs": [
        {
          "output_type": "stream",
          "name": "stdout",
          "text": [
            "Extracting features using InceptionV3...\n"
          ]
        }
      ],
      "source": [
        "#Remove the final classification layer to get feature vectors\n",
        "for model in models_dict.values():\n",
        "\n",
        "    # Remove the last layer\n",
        "    if isinstance(model, models.Inception3):\n",
        "        model.AuxLogits = nn.Sequential()  #Remove the auxiliary classifier\n",
        "        model.fc = nn.Sequential()  #Remove the fully connected layers\n",
        "\n",
        "    #GPU/CPU\n",
        "    model.to(device)\n",
        "\n",
        "features_dict = {} #modeltraining\n",
        "labels_dict = {}\n",
        "\n",
        "for model_name, model in models_dict.items():\n",
        "    print(f\"Extracting features using {model_name}...\")\n",
        "    features, labels = extract_features(model, test_loader, device)\n",
        "    features_dict[model_name] = features\n",
        "    labels_dict[model_name] = labels\n"
      ]
    },
    {
      "cell_type": "code",
      "execution_count": null,
      "metadata": {
        "colab": {
          "base_uri": "https://localhost:8080/"
        },
        "id": "FxyHS2qRpdBQ",
        "outputId": "de97bd0d-cd74-45ca-96ea-90b7ce42cbb0"
      },
      "outputs": [
        {
          "output_type": "stream",
          "name": "stdout",
          "text": [
            "[[0.46653566 0.2511339  0.16805016 ... 0.28949544 0.7967827  0.7536384 ]\n",
            " [0.8116022  2.2404943  0.47563195 ... 1.2850885  1.1036029  0.02601482]\n",
            " [0.5054274  0.09964101 0.13118584 ... 0.39926076 0.330751   0.03566289]\n",
            " ...\n",
            " [0.49979016 0.10419016 1.058598   ... 0.5111747  0.37345746 0.25737903]\n",
            " [0.74136704 0.20168933 0.5377217  ... 0.58027536 0.7138277  0.7707926 ]\n",
            " [0.52496636 0.8385651  0.45286474 ... 1.5172292  1.209733   0.14549237]]\n"
          ]
        }
      ],
      "source": [
        "INC =  features_dict['InceptionV3']\n",
        "print(INC)"
      ]
    },
    {
      "cell_type": "code",
      "execution_count": null,
      "metadata": {
        "colab": {
          "base_uri": "https://localhost:8080/"
        },
        "id": "KA2jIO_qAs7h",
        "outputId": "52710019-3d95-4026-e6ed-0a3e0d912dcb"
      },
      "outputs": [
        {
          "output_type": "stream",
          "name": "stdout",
          "text": [
            "Collecting DEAP\n",
            "  Downloading deap-1.4.2-cp311-cp311-manylinux_2_5_x86_64.manylinux1_x86_64.manylinux_2_17_x86_64.manylinux2014_x86_64.whl.metadata (13 kB)\n",
            "Requirement already satisfied: numpy in /usr/local/lib/python3.11/dist-packages (from DEAP) (2.0.2)\n",
            "Downloading deap-1.4.2-cp311-cp311-manylinux_2_5_x86_64.manylinux1_x86_64.manylinux_2_17_x86_64.manylinux2014_x86_64.whl (135 kB)\n",
            "\u001b[?25l   \u001b[90m━━━━━━━━━━━━━━━━━━━━━━━━━━━━━━━━━━━━━━━━\u001b[0m \u001b[32m0.0/135.4 kB\u001b[0m \u001b[31m?\u001b[0m eta \u001b[36m-:--:--\u001b[0m\r\u001b[2K   \u001b[91m━━━━━━━━━━━━━━━━━━━━━━━━━━━\u001b[0m\u001b[90m╺\u001b[0m\u001b[90m━━━━━━━━━━━━\u001b[0m \u001b[32m92.2/135.4 kB\u001b[0m \u001b[31m2.5 MB/s\u001b[0m eta \u001b[36m0:00:01\u001b[0m\r\u001b[2K   \u001b[90m━━━━━━━━━━━━━━━━━━━━━━━━━━━━━━━━━━━━━━━━\u001b[0m \u001b[32m135.4/135.4 kB\u001b[0m \u001b[31m2.6 MB/s\u001b[0m eta \u001b[36m0:00:00\u001b[0m\n",
            "\u001b[?25hInstalling collected packages: DEAP\n",
            "Successfully installed DEAP-1.4.2\n"
          ]
        }
      ],
      "source": [
        "!pip install DEAP"
      ]
    },
    {
      "cell_type": "code",
      "execution_count": null,
      "metadata": {
        "colab": {
          "base_uri": "https://localhost:8080/"
        },
        "id": "R2eu1I4zpfDD",
        "outputId": "18af0e9a-5a72-49c2-8b20-90e464411a72"
      },
      "outputs": [
        {
          "output_type": "stream",
          "name": "stdout",
          "text": [
            "Running Genetic Algorithm for Feature Selection...\n",
            "gen\tnevals\tavg     \tmin     \tmax     \n",
            "0  \t50    \t0.638386\t0.587719\t0.673684\n",
            "1  \t29    \t0.649825\t0.607018\t0.678947\n",
            "2  \t37    \t0.659053\t0.638596\t0.682456\n",
            "3  \t32    \t0.662632\t0.629825\t0.684211\n",
            "4  \t34    \t0.668035\t0.636842\t0.698246\n",
            "5  \t25    \t0.672947\t0.638596\t0.705263\n",
            "6  \t28    \t0.680561\t0.647368\t0.705263\n",
            "7  \t32    \t0.688842\t0.668421\t0.708772\n",
            "8  \t29    \t0.691614\t0.649123\t0.708772\n",
            "9  \t33    \t0.697614\t0.663158\t0.708772\n",
            "10 \t31    \t0.699193\t0.677193\t0.708772\n",
            "11 \t30    \t0.701509\t0.680702\t0.708772\n",
            "12 \t30    \t0.699965\t0.663158\t0.714035\n",
            "13 \t31    \t0.701439\t0.67193 \t0.714035\n",
            "14 \t32    \t0.702877\t0.682456\t0.710526\n",
            "15 \t35    \t0.702   \t0.670175\t0.719298\n",
            "16 \t35    \t0.704035\t0.663158\t0.719298\n",
            "17 \t38    \t0.705158\t0.678947\t0.722807\n",
            "18 \t24    \t0.709544\t0.687719\t0.722807\n",
            "19 \t34    \t0.710386\t0.691228\t0.722807\n",
            "20 \t31    \t0.714316\t0.7     \t0.729825\n",
            "21 \t27    \t0.718667\t0.705263\t0.729825\n",
            "22 \t31    \t0.720632\t0.707018\t0.729825\n",
            "23 \t29    \t0.720281\t0.710526\t0.729825\n",
            "24 \t26    \t0.721579\t0.703509\t0.729825\n",
            "25 \t20    \t0.723825\t0.715789\t0.729825\n",
            "26 \t33    \t0.724105\t0.707018\t0.733333\n",
            "27 \t29    \t0.725018\t0.696491\t0.733333\n",
            "28 \t38    \t0.726   \t0.707018\t0.733333\n",
            "29 \t35    \t0.727298\t0.705263\t0.735088\n",
            "30 \t29    \t0.726632\t0.708772\t0.735088\n",
            "Selected 1034 features out of 2048.\n",
            "Classifier Test Accuracy using GA-selected features: 0.67\n"
          ]
        }
      ],
      "source": [
        "#Genetic Algorithm for feature selection\n",
        "\n",
        "from deap import base, creator, tools, algorithms\n",
        "from sklearn.model_selection import cross_val_score\n",
        "from sklearn.svm import SVC\n",
        "\n",
        "#Evaluating fitness of a chromosome\n",
        "def evaluate(individual, features, labels):\n",
        "    #Use the binary chromosome (0 or 1) to select features\n",
        "    selected_features = features[:, np.array(individual, dtype=bool)]\n",
        "    if selected_features.shape[1] == 0:  # Avoid/handle empty feature sets\n",
        "        return 0.01                      # Return a small non-zero value instead of 0\n",
        "\n",
        "    #Train an SVM classifier and calculate accuracy using cross-validation\n",
        "    clf = SVC(kernel=\"linear\", random_state=42)\n",
        "    scores = cross_val_score(clf, selected_features, labels, cv=5)  #Accuracy is calculated using 5-fold cross-validation\n",
        "    return np.mean(scores),\n",
        "\n",
        "#DEAP framework\n",
        "num_features = features_dict['InceptionV3'].shape[1]  # Number of features\n",
        "\n",
        "creator.create(\"FitnessMax\", base.Fitness, weights=(1.0,))\n",
        "creator.create(\"Individual\", list, fitness=creator.FitnessMax)\n",
        "\n",
        "toolbox = base.Toolbox()\n",
        "toolbox.register(\"attr_bool\", lambda: np.random.randint(0, 2))  #Binary genes\n",
        "toolbox.register(\"individual\", tools.initRepeat, creator.Individual, toolbox.attr_bool, n=num_features)\n",
        "toolbox.register(\"population\", tools.initRepeat, list, toolbox.individual)\n",
        "\n",
        "toolbox.register(\"mate\", tools.cxTwoPoint)                      #Crossover operation\n",
        "toolbox.register(\"mutate\", tools.mutFlipBit, indpb=0.01)        #Mutation operation\n",
        "toolbox.register(\"select\", tools.selTournament, tournsize=3)    #Selection operation\n",
        "toolbox.register(\"evaluate\", evaluate, features=features_dict['InceptionV3'], labels=labels_dict['InceptionV3'])\n",
        "\n",
        "#Genetic Algorithm Parameters\n",
        "population_size = 50\n",
        "generations = 30\n",
        "cxpb = 0.5  #Crossover probability\n",
        "mutpb = 0.2  #Mutation probability\n",
        "\n",
        "#Running Genetic Algorithm\n",
        "population = toolbox.population(n=population_size)\n",
        "hall_of_fame = tools.HallOfFame(1)  #best solution\n",
        "stats = tools.Statistics(lambda ind: ind.fitness.values)\n",
        "stats.register(\"avg\", np.mean)\n",
        "stats.register(\"min\", np.min)\n",
        "stats.register(\"max\", np.max)\n",
        "\n",
        "print(\"Running Genetic Algorithm for Feature Selection...\")\n",
        "final_population, logbook = algorithms.eaSimple(\n",
        "    population, toolbox, cxpb, mutpb, generations, stats, hall_of_fame, verbose=True\n",
        ")\n",
        "\n",
        "# Extract Best Features\n",
        "best_individual = hall_of_fame[0]\n",
        "selected_features_idx = np.array(best_individual, dtype=bool)\n",
        "\n",
        "print(f\"Selected {np.sum(selected_features_idx)} features out of {num_features}.\")\n",
        "selected_features = features_dict['InceptionV3'][:, selected_features_idx]\n",
        "\n",
        "\n",
        "#clf = SVC(kernel=\"linear\",C=0.1,random_state=42)\n",
        "#clf.fit(selected_features, labels_dict['InceptionV3'])\n",
        "#accuracy = clf.score(selected_features, labels_dict['InceptionV3'])\n",
        "\n",
        "# Now apply the selected feature mask on original (full) data\n",
        "full_features = features_dict['InceptionV3'][:, selected_features_idx]\n",
        "full_labels = labels_dict['InceptionV3']\n",
        "\n",
        "# Split into train/test again (this time for classifier training/testing)\n",
        "X_train_sel, X_test_sel, y_train_sel, y_test_sel = train_test_split(\n",
        "    full_features, full_labels, test_size=0.3, random_state=42, shuffle=True\n",
        ")\n",
        "\n",
        "# Train classifier on selected features (training set only)\n",
        "clf = SVC(kernel=\"linear\", C=0.1, random_state=42)\n",
        "clf.fit(X_train_sel, y_train_sel)\n",
        "\n",
        "# Test on test set\n",
        "y_pred = clf.predict(X_test_sel)\n",
        "accuracy = accuracy_score(y_test_sel, y_pred)\n",
        "\n",
        "print(f\"Classifier Test Accuracy using GA-selected features: {accuracy:.2f}\")\n",
        "\n"
      ]
    },
    {
      "cell_type": "code",
      "execution_count": null,
      "metadata": {
        "colab": {
          "base_uri": "https://localhost:8080/"
        },
        "id": "Kwn4c7rjpiuF",
        "outputId": "cc348d74-1661-4dfe-ab69-6682e7ba21ab"
      },
      "outputs": [
        {
          "output_type": "stream",
          "name": "stdout",
          "text": [
            "BiLSTM(\n",
            "  (lstm): LSTM(1034, 128, num_layers=2, batch_first=True, bidirectional=True)\n",
            "  (fc): Linear(in_features=256, out_features=2, bias=True)\n",
            "  (softmax): Softmax(dim=1)\n",
            ")\n"
          ]
        }
      ],
      "source": [
        "import torch\n",
        "import torch.nn as nn\n",
        "import torch.optim as optim\n",
        "\n",
        "#Defining BiLSTM Model\n",
        "\n",
        "class BiLSTM(nn.Module):\n",
        "    def __init__(self, input_size, hidden_size, num_layers, num_classes):\n",
        "        super(BiLSTM, self).__init__()\n",
        "        self.lstm = nn.LSTM(input_size=input_size, hidden_size=hidden_size, num_layers=num_layers, batch_first=True, bidirectional=True)\n",
        "        self.fc = nn.Linear(hidden_size * 2, num_classes)  #Multiply by 2 for bidirectional output\n",
        "        self.softmax = nn.Softmax(dim=1)\n",
        "\n",
        "    def forward(self, x):\n",
        "        lstm_out, _ = self.lstm(x)  #LSTM output\n",
        "        out = self.fc(lstm_out[:, -1, :])  #Take the last time step\n",
        "        return self.softmax(out)\n",
        "\n",
        "# Define Model Parameters\n",
        "device = torch.device(\"cuda\" if torch.cuda.is_available() else \"cpu\")\n",
        "\n",
        "input_size = selected_features.shape[1]     #Feature vector size from InceptionV3\n",
        "hidden_size = 128                           #LSTM hidden layer size\n",
        "num_layers = 2                              #Number of LSTM layers\n",
        "num_classes = 2                             #Binary classification (Normal vs. Stroke)\n",
        "\n",
        "#Initialize the BiLSTM Model\n",
        "bilstm_model = BiLSTM(input_size, hidden_size, num_layers, num_classes).to(device)\n",
        "\n",
        "#Define Loss Function & Optimizer\n",
        "criterion = nn.CrossEntropyLoss()\n",
        "optimizer = optim.Adam(bilstm_model.parameters(), lr=0.001)\n",
        "\n",
        "print(bilstm_model)\n"
      ]
    },
    {
      "cell_type": "code",
      "execution_count": null,
      "metadata": {
        "colab": {
          "base_uri": "https://localhost:8080/"
        },
        "id": "pWb7rRlmppv9",
        "outputId": "60f73efc-6c00-4818-dd0b-093271c0da89"
      },
      "outputs": [
        {
          "output_type": "stream",
          "name": "stdout",
          "text": [
            "Expected input size: 1034\n",
            "Actual feature vector size: 1034\n",
            "Epoch [1/10], Loss: 0.6922\n",
            "Epoch [2/10], Loss: 0.6677\n",
            "Epoch [3/10], Loss: 0.6000\n",
            "Epoch [4/10], Loss: 0.5468\n",
            "Epoch [5/10], Loss: 0.4801\n",
            "Epoch [6/10], Loss: 0.4470\n",
            "Epoch [7/10], Loss: 0.4105\n",
            "Epoch [8/10], Loss: 0.3887\n",
            "Epoch [9/10], Loss: 0.3705\n",
            "Epoch [10/10], Loss: 0.3570\n",
            "Training complete!\n"
          ]
        }
      ],
      "source": [
        "import torch\n",
        "import torch.nn as nn\n",
        "import torch.optim as optim\n",
        "from torch.utils.data import DataLoader, TensorDataset\n",
        "\n",
        "#Ensure selected_features is being used (not raw images)\n",
        "X_train_tensor = torch.tensor(selected_features, dtype=torch.float32)\n",
        "y_train_tensor = torch.tensor(labels_dict['InceptionV3'], dtype=torch.long)\n",
        "\n",
        "#Ensure the input shape matches the LSTM expectation\n",
        "print(f\"Expected input size: {bilstm_model.lstm.input_size}\")\n",
        "print(f\"Actual feature vector size: {X_train_tensor.shape[1]}\")  #Check shape\n",
        "\n",
        "#DataLoader setup\n",
        "train_dataset = TensorDataset(X_train_tensor, y_train_tensor)\n",
        "train_loader = DataLoader(train_dataset, batch_size=32, shuffle=True)\n",
        "\n",
        "\n",
        "device = torch.device(\"cuda\" if torch.cuda.is_available() else \"cpu\")\n",
        "bilstm_model.to(device)\n",
        "\n",
        "#Define Loss and Optimizer\n",
        "criterion = nn.CrossEntropyLoss()\n",
        "optimizer = optim.Adam(bilstm_model.parameters(), lr=0.001)\n",
        "\n",
        "#Training Loop\n",
        "num_epochs = 10\n",
        "\n",
        "for epoch in range(num_epochs):\n",
        "    bilstm_model.train()\n",
        "\n",
        "    total_loss = 0\n",
        "    for x_batch, y_batch in train_loader:\n",
        "        x_batch, y_batch = x_batch.to(device), y_batch.to(device)\n",
        "\n",
        "        # Ensure proper input shape: (batch_size, seq_length=1, input_size)\n",
        "        x_batch = x_batch.view(x_batch.size(0), 1, -1)  # Ensure shape (B, 1, feature_dim)\n",
        "\n",
        "        #CrossEntropy Loss is used for classification.\n",
        "        #Adam Optimizer adjusts model weights.\n",
        "        #Gradient Descent: Backpropagation updates weights.\n",
        "\n",
        "        # Forward pass\n",
        "        outputs = bilstm_model(x_batch)\n",
        "        loss = criterion(outputs, y_batch)\n",
        "\n",
        "        # Backward pass\n",
        "        optimizer.zero_grad()\n",
        "        loss.backward()\n",
        "        optimizer.step()\n",
        "\n",
        "        total_loss += loss.item()\n",
        "\n",
        "    avg_loss = total_loss / len(train_loader)\n",
        "    print(f\"Epoch [{epoch+1}/{num_epochs}], Loss: {avg_loss:.4f}\")\n",
        "\n",
        "print(\"Training complete!\")\n",
        "\n"
      ]
    },
    {
      "cell_type": "code",
      "execution_count": null,
      "metadata": {
        "id": "IVHx5Z9opsW5"
      },
      "outputs": [],
      "source": [
        "import torch\n",
        "import numpy as np\n",
        "from PIL import Image\n",
        "\n",
        "\n",
        "def preprocess_image(image_path):\n",
        "    image = Image.open(image_path)\n",
        "    image = image.resize((224, 224))\n",
        "    image = image.convert('RGB')\n",
        "    image = np.array(image) / 255.0  # Normalize\n",
        "    image_tensor = torch.tensor(image).permute(2, 0, 1).unsqueeze(0).float().to(device)\n",
        "    return image_tensor  # Fixed return statement\n",
        "\n",
        "#Extract Features for a Single Image\n",
        "def extract_features_single_image(image_path, model):\n",
        "    model.eval()\n",
        "    with torch.no_grad():\n",
        "        image_tensor = preprocess_image(image_path)\n",
        "        features = model(image_tensor)  #Extract features\n",
        "    return features.cpu().numpy().flatten()\n",
        "\n",
        "#Predict Stroke vs. Normal\n",
        "def predict(image_path, inception_model, bilstm_model):\n",
        "    features = extract_features_single_image(image_path, inception_model)\n",
        "    features_tensor = torch.tensor(features, dtype=torch.float32).unsqueeze(0).unsqueeze(1).to(device)  # Reshape for LSTM\n",
        "\n",
        "    bilstm_model.eval()\n",
        "    with torch.no_grad():\n",
        "        output = bilstm_model(features_tensor)\n",
        "\n",
        "    predicted_class = torch.argmax(output, dim=1).item()\n",
        "    return \"Stroke\" if predicted_class == 1 else \"Normal\"\n",
        "\n"
      ]
    },
    {
      "cell_type": "code",
      "execution_count": null,
      "metadata": {
        "id": "MDH7UmEnptvW"
      },
      "outputs": [],
      "source": [
        "#Convert extracted features into PyTorch tensors\n",
        "test_features_tensor = torch.tensor(selected_features, dtype=torch.float32)\n",
        "test_labels_tensor = torch.tensor(labels_dict['InceptionV3'], dtype=torch.long)\n",
        "\n",
        "#Create DataLoader using extracted features instead of images\n",
        "test_dataset = TensorDataset(test_features_tensor, test_labels_tensor)\n",
        "test_loader = DataLoader(test_dataset, batch_size=32, shuffle=False)\n",
        "\n"
      ]
    },
    {
      "cell_type": "code",
      "execution_count": null,
      "metadata": {
        "colab": {
          "base_uri": "https://localhost:8080/"
        },
        "id": "INEodjeQpwBo",
        "outputId": "15181494-561c-44d4-ce11-e03a9ee4f4b2"
      },
      "outputs": [
        {
          "output_type": "stream",
          "name": "stdout",
          "text": [
            " Model Evaluation Results:\n",
            "Accuracy: 0.9316\n",
            "Precision: 0.9640\n",
            "Recall: 0.9024\n",
            "F1 Score: 0.9322\n"
          ]
        }
      ],
      "source": [
        "from sklearn.metrics import accuracy_score, precision_score, recall_score, f1_score\n",
        "\n",
        "#evaluating model performances\n",
        "\n",
        "def evaluate_model(model, dataloader, device):\n",
        "    model.eval()\n",
        "    all_preds = []\n",
        "    all_labels = []\n",
        "\n",
        "    with torch.no_grad():\n",
        "        for inputs, labels in dataloader:\n",
        "            inputs, labels = inputs.to(device), labels.to(device)\n",
        "\n",
        "            #Ensure correct shape for BiLSTM: (batch_size, seq_length=1, input_size)\n",
        "            inputs = inputs.view(inputs.size(0), 1, -1)  # -1 auto-fits feature vector size (1033)\n",
        "\n",
        "            #Forward pass\n",
        "            outputs = model(inputs)\n",
        "            preds = torch.argmax(outputs, dim=1)\n",
        "\n",
        "            all_preds.extend(preds.cpu().numpy())\n",
        "            all_labels.extend(labels.cpu().numpy())\n",
        "\n",
        "    #Compute evaluation metrics\n",
        "    accuracy = accuracy_score(all_labels, all_preds)\n",
        "    precision = precision_score(all_labels, all_preds, average=\"binary\")\n",
        "    recall = recall_score(all_labels, all_preds, average=\"binary\")\n",
        "    f1 = f1_score(all_labels, all_preds, average=\"binary\")\n",
        "\n",
        "    print(f\" Model Evaluation Results:\")\n",
        "    print(f\"Accuracy: {accuracy:.4f}\")      #Overall correctness.\n",
        "    print(f\"Precision: {precision:.4f}\")    #How many detected strokes are actually strokes.\n",
        "    print(f\"Recall: {recall:.4f}\")          #Overall correctness.\n",
        "    print(f\"F1 Score: {f1:.4f}\")            #Harmonic mean of Precision & Recall.\n",
        "\n",
        "    return accuracy, precision, recall, f1\n",
        "\n",
        "# Run evaluation on test set\n",
        "evaluate_model(bilstm_model, test_loader, device)\n",
        "torch.save(bilstm_model.state_dict(), \"bilstm_model.pth\")\n"
      ]
    },
    {
      "cell_type": "code",
      "execution_count": null,
      "metadata": {
        "colab": {
          "base_uri": "https://localhost:8080/"
        },
        "id": "T4B0REtOjMb6",
        "outputId": "00768cf5-51c5-4582-9241-9d1afacf2f9d"
      },
      "outputs": [
        {
          "output_type": "stream",
          "name": "stdout",
          "text": [
            "Collecting gradio\n",
            "  Downloading gradio-5.23.3-py3-none-any.whl.metadata (16 kB)\n",
            "Collecting aiofiles<24.0,>=22.0 (from gradio)\n",
            "  Downloading aiofiles-23.2.1-py3-none-any.whl.metadata (9.7 kB)\n",
            "Requirement already satisfied: anyio<5.0,>=3.0 in /usr/local/lib/python3.11/dist-packages (from gradio) (4.9.0)\n",
            "Collecting fastapi<1.0,>=0.115.2 (from gradio)\n",
            "  Downloading fastapi-0.115.12-py3-none-any.whl.metadata (27 kB)\n",
            "Collecting ffmpy (from gradio)\n",
            "  Downloading ffmpy-0.5.0-py3-none-any.whl.metadata (3.0 kB)\n",
            "Collecting gradio-client==1.8.0 (from gradio)\n",
            "  Downloading gradio_client-1.8.0-py3-none-any.whl.metadata (7.1 kB)\n",
            "Collecting groovy~=0.1 (from gradio)\n",
            "  Downloading groovy-0.1.2-py3-none-any.whl.metadata (6.1 kB)\n",
            "Requirement already satisfied: httpx>=0.24.1 in /usr/local/lib/python3.11/dist-packages (from gradio) (0.28.1)\n",
            "Requirement already satisfied: huggingface-hub>=0.28.1 in /usr/local/lib/python3.11/dist-packages (from gradio) (0.30.1)\n",
            "Requirement already satisfied: jinja2<4.0 in /usr/local/lib/python3.11/dist-packages (from gradio) (3.1.6)\n",
            "Requirement already satisfied: markupsafe<4.0,>=2.0 in /usr/local/lib/python3.11/dist-packages (from gradio) (3.0.2)\n",
            "Requirement already satisfied: numpy<3.0,>=1.0 in /usr/local/lib/python3.11/dist-packages (from gradio) (2.0.2)\n",
            "Requirement already satisfied: orjson~=3.0 in /usr/local/lib/python3.11/dist-packages (from gradio) (3.10.16)\n",
            "Requirement already satisfied: packaging in /usr/local/lib/python3.11/dist-packages (from gradio) (24.2)\n",
            "Requirement already satisfied: pandas<3.0,>=1.0 in /usr/local/lib/python3.11/dist-packages (from gradio) (2.2.2)\n",
            "Requirement already satisfied: pillow<12.0,>=8.0 in /usr/local/lib/python3.11/dist-packages (from gradio) (11.1.0)\n",
            "Requirement already satisfied: pydantic<2.12,>=2.0 in /usr/local/lib/python3.11/dist-packages (from gradio) (2.11.1)\n",
            "Collecting pydub (from gradio)\n",
            "  Downloading pydub-0.25.1-py2.py3-none-any.whl.metadata (1.4 kB)\n",
            "Collecting python-multipart>=0.0.18 (from gradio)\n",
            "  Downloading python_multipart-0.0.20-py3-none-any.whl.metadata (1.8 kB)\n",
            "Requirement already satisfied: pyyaml<7.0,>=5.0 in /usr/local/lib/python3.11/dist-packages (from gradio) (6.0.2)\n",
            "Collecting ruff>=0.9.3 (from gradio)\n",
            "  Downloading ruff-0.11.4-py3-none-manylinux_2_17_x86_64.manylinux2014_x86_64.whl.metadata (25 kB)\n",
            "Collecting safehttpx<0.2.0,>=0.1.6 (from gradio)\n",
            "  Downloading safehttpx-0.1.6-py3-none-any.whl.metadata (4.2 kB)\n",
            "Collecting semantic-version~=2.0 (from gradio)\n",
            "  Downloading semantic_version-2.10.0-py2.py3-none-any.whl.metadata (9.7 kB)\n",
            "Collecting starlette<1.0,>=0.40.0 (from gradio)\n",
            "  Downloading starlette-0.46.1-py3-none-any.whl.metadata (6.2 kB)\n",
            "Collecting tomlkit<0.14.0,>=0.12.0 (from gradio)\n",
            "  Downloading tomlkit-0.13.2-py3-none-any.whl.metadata (2.7 kB)\n",
            "Requirement already satisfied: typer<1.0,>=0.12 in /usr/local/lib/python3.11/dist-packages (from gradio) (0.15.2)\n",
            "Requirement already satisfied: typing-extensions~=4.0 in /usr/local/lib/python3.11/dist-packages (from gradio) (4.13.0)\n",
            "Collecting uvicorn>=0.14.0 (from gradio)\n",
            "  Downloading uvicorn-0.34.0-py3-none-any.whl.metadata (6.5 kB)\n",
            "Requirement already satisfied: fsspec in /usr/local/lib/python3.11/dist-packages (from gradio-client==1.8.0->gradio) (2025.3.2)\n",
            "Requirement already satisfied: websockets<16.0,>=10.0 in /usr/local/lib/python3.11/dist-packages (from gradio-client==1.8.0->gradio) (15.0.1)\n",
            "Requirement already satisfied: idna>=2.8 in /usr/local/lib/python3.11/dist-packages (from anyio<5.0,>=3.0->gradio) (3.10)\n",
            "Requirement already satisfied: sniffio>=1.1 in /usr/local/lib/python3.11/dist-packages (from anyio<5.0,>=3.0->gradio) (1.3.1)\n",
            "Requirement already satisfied: certifi in /usr/local/lib/python3.11/dist-packages (from httpx>=0.24.1->gradio) (2025.1.31)\n",
            "Requirement already satisfied: httpcore==1.* in /usr/local/lib/python3.11/dist-packages (from httpx>=0.24.1->gradio) (1.0.7)\n",
            "Requirement already satisfied: h11<0.15,>=0.13 in /usr/local/lib/python3.11/dist-packages (from httpcore==1.*->httpx>=0.24.1->gradio) (0.14.0)\n",
            "Requirement already satisfied: filelock in /usr/local/lib/python3.11/dist-packages (from huggingface-hub>=0.28.1->gradio) (3.18.0)\n",
            "Requirement already satisfied: requests in /usr/local/lib/python3.11/dist-packages (from huggingface-hub>=0.28.1->gradio) (2.32.3)\n",
            "Requirement already satisfied: tqdm>=4.42.1 in /usr/local/lib/python3.11/dist-packages (from huggingface-hub>=0.28.1->gradio) (4.67.1)\n",
            "Requirement already satisfied: python-dateutil>=2.8.2 in /usr/local/lib/python3.11/dist-packages (from pandas<3.0,>=1.0->gradio) (2.8.2)\n",
            "Requirement already satisfied: pytz>=2020.1 in /usr/local/lib/python3.11/dist-packages (from pandas<3.0,>=1.0->gradio) (2025.2)\n",
            "Requirement already satisfied: tzdata>=2022.7 in /usr/local/lib/python3.11/dist-packages (from pandas<3.0,>=1.0->gradio) (2025.2)\n",
            "Requirement already satisfied: annotated-types>=0.6.0 in /usr/local/lib/python3.11/dist-packages (from pydantic<2.12,>=2.0->gradio) (0.7.0)\n",
            "Requirement already satisfied: pydantic-core==2.33.0 in /usr/local/lib/python3.11/dist-packages (from pydantic<2.12,>=2.0->gradio) (2.33.0)\n",
            "Requirement already satisfied: typing-inspection>=0.4.0 in /usr/local/lib/python3.11/dist-packages (from pydantic<2.12,>=2.0->gradio) (0.4.0)\n",
            "Requirement already satisfied: click>=8.0.0 in /usr/local/lib/python3.11/dist-packages (from typer<1.0,>=0.12->gradio) (8.1.8)\n",
            "Requirement already satisfied: shellingham>=1.3.0 in /usr/local/lib/python3.11/dist-packages (from typer<1.0,>=0.12->gradio) (1.5.4)\n",
            "Requirement already satisfied: rich>=10.11.0 in /usr/local/lib/python3.11/dist-packages (from typer<1.0,>=0.12->gradio) (13.9.4)\n",
            "Requirement already satisfied: six>=1.5 in /usr/local/lib/python3.11/dist-packages (from python-dateutil>=2.8.2->pandas<3.0,>=1.0->gradio) (1.17.0)\n",
            "Requirement already satisfied: markdown-it-py>=2.2.0 in /usr/local/lib/python3.11/dist-packages (from rich>=10.11.0->typer<1.0,>=0.12->gradio) (3.0.0)\n",
            "Requirement already satisfied: pygments<3.0.0,>=2.13.0 in /usr/local/lib/python3.11/dist-packages (from rich>=10.11.0->typer<1.0,>=0.12->gradio) (2.18.0)\n",
            "Requirement already satisfied: charset-normalizer<4,>=2 in /usr/local/lib/python3.11/dist-packages (from requests->huggingface-hub>=0.28.1->gradio) (3.4.1)\n",
            "Requirement already satisfied: urllib3<3,>=1.21.1 in /usr/local/lib/python3.11/dist-packages (from requests->huggingface-hub>=0.28.1->gradio) (2.3.0)\n",
            "Requirement already satisfied: mdurl~=0.1 in /usr/local/lib/python3.11/dist-packages (from markdown-it-py>=2.2.0->rich>=10.11.0->typer<1.0,>=0.12->gradio) (0.1.2)\n",
            "Downloading gradio-5.23.3-py3-none-any.whl (46.5 MB)\n",
            "\u001b[2K   \u001b[90m━━━━━━━━━━━━━━━━━━━━━━━━━━━━━━━━━━━━━━━━\u001b[0m \u001b[32m46.5/46.5 MB\u001b[0m \u001b[31m7.7 MB/s\u001b[0m eta \u001b[36m0:00:00\u001b[0m\n",
            "\u001b[?25hDownloading gradio_client-1.8.0-py3-none-any.whl (322 kB)\n",
            "\u001b[2K   \u001b[90m━━━━━━━━━━━━━━━━━━━━━━━━━━━━━━━━━━━━━━━━\u001b[0m \u001b[32m322.2/322.2 kB\u001b[0m \u001b[31m15.4 MB/s\u001b[0m eta \u001b[36m0:00:00\u001b[0m\n",
            "\u001b[?25hDownloading aiofiles-23.2.1-py3-none-any.whl (15 kB)\n",
            "Downloading fastapi-0.115.12-py3-none-any.whl (95 kB)\n",
            "\u001b[2K   \u001b[90m━━━━━━━━━━━━━━━━━━━━━━━━━━━━━━━━━━━━━━━━\u001b[0m \u001b[32m95.2/95.2 kB\u001b[0m \u001b[31m7.1 MB/s\u001b[0m eta \u001b[36m0:00:00\u001b[0m\n",
            "\u001b[?25hDownloading groovy-0.1.2-py3-none-any.whl (14 kB)\n",
            "Downloading python_multipart-0.0.20-py3-none-any.whl (24 kB)\n",
            "Downloading ruff-0.11.4-py3-none-manylinux_2_17_x86_64.manylinux2014_x86_64.whl (11.3 MB)\n",
            "\u001b[2K   \u001b[90m━━━━━━━━━━━━━━━━━━━━━━━━━━━━━━━━━━━━━━━━\u001b[0m \u001b[32m11.3/11.3 MB\u001b[0m \u001b[31m33.1 MB/s\u001b[0m eta \u001b[36m0:00:00\u001b[0m\n",
            "\u001b[?25hDownloading safehttpx-0.1.6-py3-none-any.whl (8.7 kB)\n",
            "Downloading semantic_version-2.10.0-py2.py3-none-any.whl (15 kB)\n",
            "Downloading starlette-0.46.1-py3-none-any.whl (71 kB)\n",
            "\u001b[2K   \u001b[90m━━━━━━━━━━━━━━━━━━━━━━━━━━━━━━━━━━━━━━━━\u001b[0m \u001b[32m72.0/72.0 kB\u001b[0m \u001b[31m5.5 MB/s\u001b[0m eta \u001b[36m0:00:00\u001b[0m\n",
            "\u001b[?25hDownloading tomlkit-0.13.2-py3-none-any.whl (37 kB)\n",
            "Downloading uvicorn-0.34.0-py3-none-any.whl (62 kB)\n",
            "\u001b[2K   \u001b[90m━━━━━━━━━━━━━━━━━━━━━━━━━━━━━━━━━━━━━━━━\u001b[0m \u001b[32m62.3/62.3 kB\u001b[0m \u001b[31m4.3 MB/s\u001b[0m eta \u001b[36m0:00:00\u001b[0m\n",
            "\u001b[?25hDownloading ffmpy-0.5.0-py3-none-any.whl (6.0 kB)\n",
            "Downloading pydub-0.25.1-py2.py3-none-any.whl (32 kB)\n",
            "Installing collected packages: pydub, uvicorn, tomlkit, semantic-version, ruff, python-multipart, groovy, ffmpy, aiofiles, starlette, safehttpx, gradio-client, fastapi, gradio\n",
            "Successfully installed aiofiles-23.2.1 fastapi-0.115.12 ffmpy-0.5.0 gradio-5.23.3 gradio-client-1.8.0 groovy-0.1.2 pydub-0.25.1 python-multipart-0.0.20 ruff-0.11.4 safehttpx-0.1.6 semantic-version-2.10.0 starlette-0.46.1 tomlkit-0.13.2 uvicorn-0.34.0\n"
          ]
        }
      ],
      "source": [
        "!pip install gradio"
      ]
    },
    {
      "cell_type": "code",
      "source": [
        "import gradio as gr\n",
        "import torch\n",
        "import torch.nn as nn\n",
        "import torchvision.transforms as transforms\n",
        "from PIL import Image\n",
        "import numpy as np\n",
        "from torchvision import models\n",
        "\n",
        "# Load trained BiLSTM model\n",
        "class BiLSTM(nn.Module):\n",
        "    def __init__(self, input_size, hidden_size, num_layers, num_classes): # Corrected the method name to __init__\n",
        "        super(BiLSTM, self).__init__()\n",
        "        self.lstm = nn.LSTM(input_size, hidden_size, num_layers, batch_first=True, bidirectional=True)\n",
        "        self.fc = nn.Linear(hidden_size * 2, num_classes)\n",
        "\n",
        "    def forward(self, x):\n",
        "        lstm_out, _ = self.lstm(x)\n",
        "        out = self.fc(lstm_out[:, -1, :])\n",
        "        return out\n",
        "\n",
        "# Load the saved model\n",
        "input_size = selected_features.shape[1]\n",
        "hidden_size = 128\n",
        "num_layers = 2\n",
        "num_classes = 2\n",
        "\n",
        "device = torch.device(\"cuda\" if torch.cuda.is_available() else \"cpu\")\n",
        "bilstm_model = BiLSTM(input_size, hidden_size, num_layers, num_classes).to(device)\n",
        "bilstm_model.load_state_dict(torch.load(\"bilstm_model.pth\", map_location=device))\n",
        "bilstm_model.eval()\n",
        "\n",
        "# Load InceptionV3 for feature extraction\n",
        "inception = models.inception_v3(pretrained=True)\n",
        "inception.fc = nn.Identity()\n",
        "inception.to(device)\n",
        "inception.eval()\n",
        "\n",
        "# Image preprocessing\n",
        "transform = transforms.Compose([\n",
        "    transforms.Resize((229, 229)),\n",
        "    transforms.ToTensor(),\n",
        "    transforms.Normalize([0.5], [0.5])\n",
        "])\n",
        "\n",
        "def is_ct_scan(image: Image.Image) -> bool:\n",
        "    return np.mean(np.array(image)) < 200  # CT scans are usually grayscale & dark\n",
        "\n",
        "def predict(image):\n",
        "    if not is_ct_scan(image):\n",
        "        return \"Error: Please upload a valid CT scan image.\"\n",
        "\n",
        "    # Preprocess the image\n",
        "    image = transform(image).unsqueeze(0).to(device)  # Shape: (1, 3, 299, 299)\n",
        "\n",
        "    # Extract Features using InceptionV3\n",
        "    with torch.no_grad():\n",
        "        features = inception(image).cpu().numpy()\n",
        "\n",
        "    print(f\"🟢 Extracted feature shape: {features.shape}\")  # Should be (1, feature_dim)\n",
        "\n",
        "    # If you have selected features, apply indexing\n",
        "    if 'selected_features_idx' in globals():\n",
        "        features = features[:, selected_features_idx]  # Ensure this works correctly\n",
        "\n",
        "    # Convert to tensor & reshape for LSTM\n",
        "    features_tensor = torch.tensor(features, dtype=torch.float32).to(device)\n",
        "\n",
        "    # ✅ **Fix the Reshaping Issue**\n",
        "    features_tensor = features_tensor.unsqueeze(0)  # (1, feature_dim) -> (1, 1, feature_dim)\n",
        "\n",
        "    print(f\"🟢 Final input shape to LSTM: {features_tensor.shape}\")  # Should be (1, 1, feature_dim)\n",
        "\n",
        "    # Pass through BiLSTM model\n",
        "    with torch.no_grad():\n",
        "        output = bilstm_model(features_tensor)\n",
        "        prediction = torch.argmax(output, dim=1).item()\n",
        "\n",
        "    return \"Stroke\" if prediction == 1 else \"Normal\"\n",
        "\n",
        "\n",
        "# Gradio Interface\n",
        "demo = gr.Interface(fn=predict,\n",
        "                    inputs=gr.Image(type=\"pil\"),\n",
        "                    outputs=gr.Textbox(),\n",
        "                    title=\"Stroke Detection System\",\n",
        "                    description=\"Upload a brain CT scan image to detect stroke.\")\n",
        "\n",
        "demo.launch()"
      ],
      "metadata": {
        "id": "G1Wjji3vVOH-",
        "colab": {
          "base_uri": "https://localhost:8080/",
          "height": 645
        },
        "outputId": "2f19f6c1-c944-4d33-fe94-d9ce27175a51"
      },
      "execution_count": null,
      "outputs": [
        {
          "output_type": "stream",
          "name": "stdout",
          "text": [
            "Running Gradio in a Colab notebook requires sharing enabled. Automatically setting `share=True` (you can turn this off by setting `share=False` in `launch()` explicitly).\n",
            "\n",
            "Colab notebook detected. To show errors in colab notebook, set debug=True in launch()\n",
            "* Running on public URL: https://cf698ec89b54dd42c8.gradio.live\n",
            "\n",
            "This share link expires in 72 hours. For free permanent hosting and GPU upgrades, run `gradio deploy` from the terminal in the working directory to deploy to Hugging Face Spaces (https://huggingface.co/spaces)\n"
          ]
        },
        {
          "output_type": "display_data",
          "data": {
            "text/plain": [
              "<IPython.core.display.HTML object>"
            ],
            "text/html": [
              "<div><iframe src=\"https://cf698ec89b54dd42c8.gradio.live\" width=\"100%\" height=\"500\" allow=\"autoplay; camera; microphone; clipboard-read; clipboard-write;\" frameborder=\"0\" allowfullscreen></iframe></div>"
            ]
          },
          "metadata": {}
        },
        {
          "output_type": "execute_result",
          "data": {
            "text/plain": []
          },
          "metadata": {},
          "execution_count": 15
        }
      ]
    }
  ],
  "metadata": {
    "colab": {
      "provenance": []
    },
    "kernelspec": {
      "display_name": "Python 3",
      "name": "python3"
    },
    "language_info": {
      "name": "python"
    }
  },
  "nbformat": 4,
  "nbformat_minor": 0
}